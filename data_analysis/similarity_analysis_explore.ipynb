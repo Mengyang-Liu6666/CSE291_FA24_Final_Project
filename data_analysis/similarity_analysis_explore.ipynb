{
 "cells": [
  {
   "cell_type": "markdown",
   "metadata": {},
   "source": [
    "### Load and inspect data"
   ]
  },
  {
   "cell_type": "code",
   "execution_count": 1,
   "metadata": {},
   "outputs": [],
   "source": [
    "import json\n",
    "import jsonlines"
   ]
  },
  {
   "cell_type": "markdown",
   "metadata": {},
   "source": [
    "*   Load data"
   ]
  },
  {
   "cell_type": "code",
   "execution_count": 5,
   "metadata": {},
   "outputs": [],
   "source": [
    "input_name = \"test_5_legal_actions_similarity_llama3.json\"\n",
    "with open(input_name, 'r', encoding='utf-8') as json_file:\n",
    "    new_sim_data_2 = [json.loads(line) for line in json_file]"
   ]
  },
  {
   "cell_type": "markdown",
   "metadata": {},
   "source": [
    "*   Inspect data"
   ]
  },
  {
   "cell_type": "markdown",
   "metadata": {},
   "source": [
    "```Python\n",
    "new_sim_data = [{\"question\": str, \n",
    "                 \"partial_sol\": [{\"partial_sol_text\": str, \n",
    "                                  \"action_list\": [str],\n",
    "                                  \"cluster_list\": [[int]],\n",
    "                                  \"adjacency_mat\": [[int]]\n",
    "                                }]\n",
    "                }]\n",
    "```"
   ]
  },
  {
   "cell_type": "markdown",
   "metadata": {},
   "source": [
    "*   View partial solutions"
   ]
  },
  {
   "cell_type": "code",
   "execution_count": 3,
   "metadata": {},
   "outputs": [
    {
     "name": "stdout",
     "output_type": "stream",
     "text": [
      "Question: Convert the point $(0,3)$ in rectangular coordinates to polar coordinates.  Enter your answer in the form $(r,\\theta),$ where $r > 0$ and $0 \\le \\theta < 2 \\pi.$\n",
      "\n",
      "Partial solutions:\n",
      "\n",
      "0. \n",
      "\n",
      "1. To convert the point \\((0, 3)\\) from rectangular coordinates to polar coordinates, we need to find the values of \\(r\\) and \\(\\theta\\). The formulas for converting from rectangular coordinates \\((x, y)\\) to polar coordinates \\((r, \\theta)\\) are:\n",
      "\n"
     ]
    }
   ],
   "source": [
    "idx = 0\n",
    "\n",
    "question = new_sim_data_2[idx][\"question\"]\n",
    "print(f\"Question: {question}\\n\\nPartial solutions:\\n\")\n",
    "for i, partial_sol in enumerate(new_sim_data_2[idx][\"partial_sol\"]):\n",
    "    partial_sol_text = partial_sol[\"partial_sol_text\"]\n",
    "    print(f\"{i}. {partial_sol_text}\\n\")"
   ]
  },
  {
   "cell_type": "markdown",
   "metadata": {},
   "source": [
    "*   View actions and clusters"
   ]
  },
  {
   "cell_type": "code",
   "execution_count": 9,
   "metadata": {},
   "outputs": [
    {
     "name": "stdout",
     "output_type": "stream",
     "text": [
      "Question: Suppose $\\sin D = 0.7$ in the diagram below. What is $DE$? [asy]\n",
      "pair D,E,F;\n",
      "F = (0,0);\n",
      "D = (sqrt(51),7);\n",
      "E = (0,7);\n",
      "draw(D--E--F--D);\n",
      "draw(rightanglemark(D,E,F,15));\n",
      "label(\"$D$\",D,NE);\n",
      "label(\"$E$\",E,NW);\n",
      "label(\"$F$\",F,SW);\n",
      "label(\"$7$\",(E+F)/2,W);\n",
      "[/asy]\n",
      "\n",
      "Partial solution: To determine the length of \\(DE\\), we start by analyzing the given right triangle \\(DEF\\). We know that \\(\\sin D = 0.7\\) and that \\(EF = 7\\). Since \\(\\sin D\\) is the ratio of the opposite side to the hypotenuse in a right triangle, we can write:\n",
      "\n",
      "Actions:\n",
      "\n",
      "0. \\[\n",
      "\\sin D = \\frac{EF}{DE} = 0.7\n",
      "\\]\n",
      "\n",
      "1. \\[\n",
      "\\sin D = \\frac{EF}{DE} = \\frac{7}{DE}\n",
      "\\]\n",
      "\n",
      "2. \\[\n",
      "\\sin D = \\frac{EF}{DE}\n",
      "\\]\n",
      "\n",
      "3. \\[\n",
      "\\sin D = \\frac{EF}{DE} = \\frac{7}{DE} = 0.7\n",
      "\\]\n",
      "\n",
      "Clustering: [[0, 2, 3], [1]]\n",
      "Adjacency Matrix:\n",
      "[0, 0, 1, 0]\n",
      "[0, 0, 0, 0]\n",
      "[1, 0, 0, 1]\n",
      "[0, 0, 1, 0]\n"
     ]
    }
   ],
   "source": [
    "idx = 0\n",
    "partial_sol_idx = 3\n",
    "\n",
    "question = new_sim_data_2[idx][\"question\"]\n",
    "partial_sol_text = new_sim_data_2[idx][\"partial_sol\"][partial_sol_idx][\"partial_sol_text\"]\n",
    "print(f\"Question: {question}\\n\\nPartial solution: {partial_sol_text}\\n\\nActions:\\n\")\n",
    "for i, action in enumerate(new_sim_data_2[idx][\"partial_sol\"][partial_sol_idx][\"action_list\"]):\n",
    "    print(f\"{i}. {action}\\n\")\n",
    "cluster_list = new_sim_data_2[idx][\"partial_sol\"][partial_sol_idx][\"cluster_list\"]\n",
    "adjacency_mat = new_sim_data_2[idx][\"partial_sol\"][partial_sol_idx][\"adjacency_mat\"]\n",
    "print(f\"Clustering: {cluster_list}\")\n",
    "print(\"Adjacency Matrix:\")\n",
    "for line in adjacency_mat:\n",
    "    print(line)"
   ]
  },
  {
   "cell_type": "markdown",
   "metadata": {},
   "source": [
    "*   Check metric"
   ]
  },
  {
   "cell_type": "code",
   "execution_count": 6,
   "metadata": {},
   "outputs": [
    {
     "name": "stdout",
     "output_type": "stream",
     "text": [
      "Different solution found in idx: 0, partial_sol_idx: 1\n",
      "Different solution found in idx: 0, partial_sol_idx: 3\n",
      "Different solution found in idx: 0, partial_sol_idx: 4\n",
      "Different solution found in idx: 0, partial_sol_idx: 5\n",
      "Different solution found in idx: 0, partial_sol_idx: 6\n",
      "Different solution found in idx: 1, partial_sol_idx: 1\n",
      "Different solution found in idx: 1, partial_sol_idx: 22\n",
      "Different solution found in idx: 1, partial_sol_idx: 26\n",
      "Different solution found in idx: 1, partial_sol_idx: 27\n",
      "Different solution found in idx: 2, partial_sol_idx: 5\n",
      "Different solution found in idx: 2, partial_sol_idx: 25\n",
      "Different solution found in idx: 2, partial_sol_idx: 27\n",
      "Different solution found in idx: 2, partial_sol_idx: 37\n",
      "Different solution found in idx: 3, partial_sol_idx: 1\n",
      "Different solution found in idx: 3, partial_sol_idx: 2\n",
      "Different solution found in idx: 3, partial_sol_idx: 3\n",
      "Different solution found in idx: 3, partial_sol_idx: 4\n",
      "Different solution found in idx: 3, partial_sol_idx: 5\n",
      "Different solution found in idx: 3, partial_sol_idx: 6\n",
      "Different solution found in idx: 3, partial_sol_idx: 8\n",
      "Different solution found in idx: 3, partial_sol_idx: 9\n",
      "Different solution found in idx: 3, partial_sol_idx: 10\n",
      "Different solution found in idx: 3, partial_sol_idx: 13\n",
      "Different solution found in idx: 3, partial_sol_idx: 14\n",
      "Different solution found in idx: 3, partial_sol_idx: 15\n",
      "Different solution found in idx: 3, partial_sol_idx: 17\n",
      "Different solution found in idx: 3, partial_sol_idx: 18\n",
      "Different solution found in idx: 3, partial_sol_idx: 19\n",
      "Different solution found in idx: 3, partial_sol_idx: 20\n",
      "Different solution found in idx: 3, partial_sol_idx: 21\n",
      "Different solution found in idx: 3, partial_sol_idx: 24\n",
      "Different solution found in idx: 3, partial_sol_idx: 25\n",
      "Different solution found in idx: 3, partial_sol_idx: 26\n",
      "Different solution found in idx: 3, partial_sol_idx: 27\n",
      "Different solution found in idx: 3, partial_sol_idx: 29\n",
      "Different solution found in idx: 4, partial_sol_idx: 1\n",
      "Different solution found in idx: 4, partial_sol_idx: 3\n",
      "Different solution found in idx: 4, partial_sol_idx: 4\n",
      "Different solution found in idx: 4, partial_sol_idx: 5\n",
      "Different solution found in idx: 4, partial_sol_idx: 8\n",
      "Different solution found in idx: 4, partial_sol_idx: 20\n",
      "Different solution found in idx: 4, partial_sol_idx: 22\n",
      "Different solution found in idx: 4, partial_sol_idx: 23\n",
      "Different solution found in idx: 4, partial_sol_idx: 24\n",
      "Different solution found in idx: 4, partial_sol_idx: 26\n",
      "Different solution found in idx: 4, partial_sol_idx: 27\n",
      "Different solution found in idx: 4, partial_sol_idx: 29\n",
      "Different solution found in idx: 4, partial_sol_idx: 30\n",
      "Different solution found in idx: 4, partial_sol_idx: 32\n",
      "Different solution found in idx: 4, partial_sol_idx: 33\n",
      "Different solution found in idx: 4, partial_sol_idx: 34\n",
      "Different solution found in idx: 4, partial_sol_idx: 36\n",
      "Different solution found in idx: 4, partial_sol_idx: 37\n",
      "Different solution found in idx: 4, partial_sol_idx: 42\n",
      "Different solution found in idx: 4, partial_sol_idx: 43\n",
      "Different solution found in idx: 4, partial_sol_idx: 45\n",
      "Different solution found in idx: 4, partial_sol_idx: 46\n",
      "Different solution found in idx: 4, partial_sol_idx: 47\n",
      "Different solution found in idx: 4, partial_sol_idx: 48\n",
      "Different solution found in idx: 4, partial_sol_idx: 49\n",
      "Different solution found in idx: 4, partial_sol_idx: 52\n",
      "Different solution found in idx: 4, partial_sol_idx: 53\n",
      "Different solution found in idx: 4, partial_sol_idx: 55\n",
      "Different solution found in idx: 4, partial_sol_idx: 56\n",
      "Different solution found in idx: 4, partial_sol_idx: 57\n",
      "Different solution found in idx: 4, partial_sol_idx: 58\n",
      "Different solution found in idx: 4, partial_sol_idx: 59\n",
      "Different solution found in idx: 4, partial_sol_idx: 60\n",
      "Different solution found in idx: 4, partial_sol_idx: 61\n",
      "Different solution found in idx: 4, partial_sol_idx: 62\n",
      "Different solution found in idx: 4, partial_sol_idx: 64\n",
      "Different solution found in idx: 4, partial_sol_idx: 73\n",
      "Different solution found in idx: 4, partial_sol_idx: 76\n",
      "Different solution found in idx: 4, partial_sol_idx: 79\n",
      "Different solution found in idx: 4, partial_sol_idx: 81\n",
      "Different solution found in idx: 4, partial_sol_idx: 83\n",
      "Different solution found in idx: 4, partial_sol_idx: 85\n",
      "Different solution found in idx: 4, partial_sol_idx: 86\n",
      "Different solution found in idx: 4, partial_sol_idx: 92\n",
      "Different solution found in idx: 4, partial_sol_idx: 95\n",
      "Ratio of steps, with only 1 cluster: 0.6595744680851063\n"
     ]
    }
   ],
   "source": [
    "total_steps = 0\n",
    "one_cluster_steps = 0\n",
    "\n",
    "for i, question in enumerate(new_sim_data_2):\n",
    "    for j, partial_sol in enumerate(question[\"partial_sol\"]):\n",
    "        total_steps += 1\n",
    "        if len(partial_sol[\"cluster_list\"]) == 1: # only 1 cluster\n",
    "            one_cluster_steps += 1\n",
    "        else:\n",
    "            print(f\"Different solution found in idx: {i}, partial_sol_idx: {j}\")\n",
    "\n",
    "print(f\"Ratio of steps, with only 1 cluster: {one_cluster_steps/total_steps}\")"
   ]
  },
  {
   "cell_type": "code",
   "execution_count": 7,
   "metadata": {},
   "outputs": [
    {
     "data": {
      "text/plain": [
       "235"
      ]
     },
     "execution_count": 7,
     "metadata": {},
     "output_type": "execute_result"
    }
   ],
   "source": [
    "total_steps"
   ]
  }
 ],
 "metadata": {
  "kernelspec": {
   "display_name": "pytorch-gpu",
   "language": "python",
   "name": "python3"
  },
  "language_info": {
   "codemirror_mode": {
    "name": "ipython",
    "version": 3
   },
   "file_extension": ".py",
   "mimetype": "text/x-python",
   "name": "python",
   "nbconvert_exporter": "python",
   "pygments_lexer": "ipython3",
   "version": "3.12.3"
  }
 },
 "nbformat": 4,
 "nbformat_minor": 2
}
